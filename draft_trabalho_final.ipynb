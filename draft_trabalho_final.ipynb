{
 "cells": [
  {
   "attachments": {
    "image.png": {
     "image/png": "[encoded data removed]"
    }
   },
   "cell_type": "markdown",
   "id": "b2352bfc",
   "metadata": {},
   "source": [
    " ------------------------------ \n",
    "# ![image.png](attachment:image.png) Data Science Experience - Trabalho Final\n",
    "\n",
    "Curso: **MBA em Engenharia de Dados**  \n",
    "Turma: **2025G**\n",
    "\n",
    " ------------------------------ \n",
    "\n",
    "## 📋 Grupo de Trabalho\n",
    "\n",
    "| **Nome** | **RA** |\n",
    "|-----------------|-----------|\n",
    "| **Bruno Mambro** | (10740187) |\n",
    "| **Fábio Fumio Wada** | (10741479) |\n",
    "| **Sweeli Suzuki** | (10423319) |\n",
    "| **Tatiane Silva Santos** | (10747108) |\n"
   ]
  },
  {
   "cell_type": "markdown",
   "id": "b916633d",
   "metadata": {},
   "source": [
    "# TechCorpBrasil - Análise Exploratória"
   ]
  },
  {
   "cell_type": "code",
   "execution_count": 1,
   "id": "75921b89",
   "metadata": {},
   "outputs": [],
   "source": [
    "import pandas as pd\n",
    "import numpy as np"
   ]
  },
  {
   "cell_type": "code",
   "execution_count": 2,
   "id": "f9fe1167",
   "metadata": {},
   "outputs": [],
   "source": [
    "# Gerando a amostra aleatória (gerador de números aleatórios com um valor específico), garantindo que os resultados \"aleatórios\" gerados posteriormente\n",
    "# sejam reproduzíveis. Isso é essencial para testes, depuração e experimentos científicos onde a consistência dos resultados é importante.\n",
    "# Se você executar esse código várias vezes, sempre obterá os mesmos números. Se mudar a semente (ex: np.random.seed(123)), a sequência será diferente.\n",
    "# \"The Hitchhiker's Guide to the Galaxy\" (O Guia do Mochileiro das Galáxias), de Douglas Adams. Na história, um supercomputador chamado Deep Thought passa milhões de anos calculando a \"Resposta para a Vida, o Universo e Tudo Mais\" e, no final, a resposta é... 42.\"\n",
    "# Para este exemplo, vou criar um dataset sintético similar - \n",
    "np.random.seed(42)\n",
    "\n",
    "# Criando dataset sintético para demonstração\n",
    "# Definindo o número de amostras através do parâmetro n_samples do numpy\n",
    "n_samples = 1000000\n",
    "\n",
    "v_employes_data = {\n",
    "    #Variáveis Demográficas\n",
    "    'Age': np.random.randint(18, 65, n_samples),\n",
    "    'Gender': np.random.choice(['Female', 'Male'], n_samples),\n",
    "    'MaritalStatus': np.random.choice(['Single', 'Married', 'Divorced'], n_samples),\n",
    "    'Education': np.random.choice(['Bellow College', 'College', 'Bachelor','Master','Doctor'], n_samples),\n",
    "    'EducationField': np.random.choice(['Information Technology', 'Other', 'Engineering', 'Marketing', 'Computer Science', 'Human Resources'], n_samples),\n",
    "    #Variáveis Profissionais\n",
    "    'Department': np.random.choice(['Sales', 'Research & Development', 'Human Resources'], n_samples),\n",
    "    'JobRole': np.random.choice(['Sales Executive', 'Software Developer', 'Project Manager',\n",
    "                                'Financial Analyst', 'Director', 'Manager',\n",
    "                                'Consultant', 'Analyst', 'Human Resources'], n_samples),\n",
    "        #    'JobRole': np.random.choice(['Sales Executive', 'Research Scientist', 'Laboratory Technician',\n",
    "        #                        'Manufacturing Director', 'Healthcare Representative', 'Manager',\n",
    "        #                        'Sales Representative', 'Research Director', 'Human Resources'], n_samples),\n",
    "    'JobLevel': np.random.randint(1, 6, n_samples),\n",
    "    'JobInvolvement': np.random.randint(1, 5, n_samples),\n",
    "    'YearsAtCompany': np.random.randint(0, 40, n_samples),\n",
    "    #Variáveis de Compensação\n",
    "    'MonthlyIncome': np.random.randint(1000, 20000, n_samples),\n",
    "    'PercentSalaryHike': np.random.randint(11, 26, n_samples),\n",
    "    'StockOptionLevel': np.random.randint(0, 4, n_samples),\n",
    "    #Variáveis de Satisfação\n",
    "    'JobSatisfaction': np.random.randint(1, 5, n_samples),\n",
    "    'EnvironmentSatisfaction': np.random.randint(1, 5, n_samples),\n",
    "    'RelationshipSatisfaction': np.random.randint(1, 5, n_samples),\n",
    "    #Variáveis de Trabalho Atual (WorkLife)\n",
    "    'OverTime': np.random.choice(['Yes', 'No'], n_samples, p=[0.28, 0.72]),\n",
    "    'WorkLifeBalance': np.random.randint(1, 5, n_samples),\n",
    "    'BusinessTravel': np.random.choice(['Travel_Rarely', 'Travel_Frequently', 'Non-Travel'], n_samples),\n",
    "    'DistanceFromHome': np.random.randint(1, 30, n_samples),\n",
    "    #Variáveis de Performance\n",
    "    'PerformanceRating': np.random.choice([3, 4], n_samples, p=[0.84, 0.16]),\n",
    "    'TrainingTimesLastYear': np.random.randint(0, 7, n_samples),\n",
    "    #Variáveis de Target\n",
    "    'Attrition': np.random.choice(['Yes', 'No'], n_samples, p=[0.16, 0.84])\n",
    "}\n",
    "\n",
    "# gerando o dataframe através dos dados dos funcionários\n",
    "df_dataset_employess = pd.DataFrame(v_employes_data)"
   ]
  },
  {
   "cell_type": "code",
   "execution_count": null,
   "id": "de0e79d8",
   "metadata": {},
   "outputs": [],
   "source": [
    "#Exportando daframe para o excel\n",
    "\n",
    "#df_dataset_employess.to_excel('dataset_employess.xlsx', index=False) \n",
    "#9minutos e 11.9 segundos para gerar 1.000.000 de linhas"
   ]
  }
 ],
 "metadata": {
  "kernelspec": {
   "display_name": "Python 3",
   "language": "python",
   "name": "python3"
  },
  "language_info": {
   "codemirror_mode": {
    "name": "ipython",
    "version": 3
   },
   "file_extension": ".py",
   "mimetype": "text/x-python",
   "name": "python",
   "nbconvert_exporter": "python",
   "pygments_lexer": "ipython3",
   "version": "3.13.5"
  }
 },
 "nbformat": 4,
 "nbformat_minor": 5
}
